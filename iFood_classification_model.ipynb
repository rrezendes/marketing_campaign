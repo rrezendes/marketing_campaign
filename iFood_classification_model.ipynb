{
  "nbformat": 4,
  "nbformat_minor": 0,
  "metadata": {
    "colab": {
      "name": "rrezende_iFood_classification_model.ipynb",
      "provenance": [],
      "collapsed_sections": [],
      "authorship_tag": "ABX9TyPBQj7r8DXQQQkH8ocyB/sP",
      "include_colab_link": true
    },
    "kernelspec": {
      "name": "python3",
      "display_name": "Python 3"
    }
  },
  "cells": [
    {
      "cell_type": "markdown",
      "metadata": {
        "id": "view-in-github",
        "colab_type": "text"
      },
      "source": [
        "<a href=\"https://colab.research.google.com/github/rrezendes/marketing_campaign/blob/master/iFood_classification_model.ipynb\" target=\"_parent\"><img src=\"https://colab.research.google.com/assets/colab-badge.svg\" alt=\"Open In Colab\"/></a>"
      ]
    },
    {
      "cell_type": "markdown",
      "metadata": {
        "id": "ZbkN1f39zibC",
        "colab_type": "text"
      },
      "source": [
        "# 1.Imports, connections and transformation"
      ]
    },
    {
      "cell_type": "code",
      "metadata": {
        "id": "_sjFBx9HzkG5",
        "colab_type": "code",
        "cellView": "form",
        "colab": {}
      },
      "source": [
        "#@title Libraries importing\n",
        "#@libraries\n",
        "#importing libraries\n",
        "import pandas as pd\n",
        "from datetime import datetime\n",
        "import numpy as np\n",
        "import matplotlib.pyplot as plt\n",
        "import seaborn as sns\n",
        "\n",
        "#pydrive to google drive connection\n",
        "!pip install -U -q PyDrive\n",
        "from pydrive.auth import GoogleAuth\n",
        "from pydrive.drive import GoogleDrive\n",
        "from google.colab import auth\n",
        "from oauth2client.client import GoogleCredentials\n"
      ],
      "execution_count": 0,
      "outputs": []
    },
    {
      "cell_type": "code",
      "metadata": {
        "id": "xt6dOwcUzmb5",
        "colab_type": "code",
        "cellView": "form",
        "colab": {}
      },
      "source": [
        "#@title Authentication\n",
        "# Authenticate and create the PyDrive client.\n",
        "auth.authenticate_user()\n",
        "gauth = GoogleAuth()\n",
        "gauth.credentials = GoogleCredentials.get_application_default()\n",
        "drive = GoogleDrive(gauth)"
      ],
      "execution_count": 0,
      "outputs": []
    },
    {
      "cell_type": "code",
      "metadata": {
        "id": "-KU3H31Vzo_h",
        "colab_type": "code",
        "cellView": "form",
        "colab": {}
      },
      "source": [
        "#@title Reading the file\n",
        "#google drive file link (ml_project1_data.csv)\n",
        "link = 'https://drive.google.com/open?id=1EcraG_N9CYY-YPnf9AHCyag9GtKMl9oF' # The shareable link\n",
        "\n",
        "#takes the file ID\n",
        "fluff, id = link.split('=')\n",
        "\n",
        "#download and csv read\n",
        "downloaded = drive.CreateFile({'id':id}) \n",
        "downloaded.GetContentFile('ifood_file_test.csv')  \n",
        "csv_base = pd.read_csv('ifood_file_test.csv')"
      ],
      "execution_count": 0,
      "outputs": []
    },
    {
      "cell_type": "code",
      "metadata": {
        "id": "oYJTUOv2zrRq",
        "colab_type": "code",
        "cellView": "form",
        "colab": {}
      },
      "source": [
        "#@title New Dataframe\n",
        "df = csv_base\n"
      ],
      "execution_count": 0,
      "outputs": []
    },
    {
      "cell_type": "code",
      "metadata": {
        "id": "X1ZpCkyGzthq",
        "colab_type": "code",
        "cellView": "form",
        "colab": {}
      },
      "source": [
        "#@title Transformation \n",
        "column_means = df. mean()\n",
        "df = df. fillna(column_means)\n",
        "\n",
        "df['Frequency'] = df['NumCatalogPurchases'] + df['NumStorePurchases'] + df['NumWebPurchases']\n",
        "df['Revenue'] = df['MntFishProducts'] + df['MntFruits'] + df['MntMeatProducts'] + df['MntSweetProducts'] + df['MntWines']\n",
        "df = df.drop(['ID','NumCatalogPurchases','NumStorePurchases','NumWebPurchases'], axis=1)\n",
        "df = df.drop(['Z_CostContact','Z_Revenue','MntFishProducts','MntFruits','MntMeatProducts','MntSweetProducts','MntWines'],axis=1)\n",
        "df = df.drop(['Dt_Customer'], axis=1)\n"
      ],
      "execution_count": 0,
      "outputs": []
    },
    {
      "cell_type": "code",
      "metadata": {
        "id": "4uf9-yvL1ead",
        "colab_type": "code",
        "cellView": "form",
        "outputId": "6611d797-335f-483f-aac7-c36b01526c1c",
        "colab": {
          "base_uri": "https://localhost:8080/",
          "height": 349
        }
      },
      "source": [
        "#@title Oversampling\n",
        "# Class count\n",
        "count_class_0, count_class_1 = df.Response.value_counts()\n",
        "\n",
        "# Divide by class\n",
        "df_class_0 = df[df['Response'] == 0]\n",
        "df_class_1 = df[df['Response'] == 1]\n",
        "\n",
        "df_class_1_over = df_class_1.sample(count_class_0, replace=True)\n",
        "df_test_over = pd.concat([df_class_0, df_class_1_over], axis=0)\n",
        "\n",
        "print('Random over-sampling:')\n",
        "print(df_test_over.Response.value_counts())\n",
        "\n",
        "df_test_over.Response.value_counts().plot(kind='bar', title='Count (Response)');\n",
        "\n",
        "df_old = df\n",
        "df = df_test_over"
      ],
      "execution_count": 0,
      "outputs": [
        {
          "output_type": "stream",
          "text": [
            "Random over-sampling:\n",
            "1    1906\n",
            "0    1906\n",
            "Name: Response, dtype: int64\n"
          ],
          "name": "stdout"
        },
        {
          "output_type": "display_data",
          "data": {
            "image/png": "[encoded data removed]",
            "text/plain": [
              "<Figure size 432x288 with 1 Axes>"
            ]
          },
          "metadata": {
            "tags": [],
            "needs_background": "light"
          }
        }
      ]
    },
    {
      "cell_type": "code",
      "metadata": {
        "id": "OFMzVd9zCV_I",
        "colab_type": "code",
        "outputId": "d8acbbe0-1128-4d84-b6a0-69a34fbf09a7",
        "colab": {
          "base_uri": "https://localhost:8080/",
          "height": 214
        }
      },
      "source": [
        "df.head()\n"
      ],
      "execution_count": 0,
      "outputs": [
        {
          "output_type": "execute_result",
          "data": {
            "text/html": [
              "<div>\n",
              "<style scoped>\n",
              "    .dataframe tbody tr th:only-of-type {\n",
              "        vertical-align: middle;\n",
              "    }\n",
              "\n",
              "    .dataframe tbody tr th {\n",
              "        vertical-align: top;\n",
              "    }\n",
              "\n",
              "    .dataframe thead th {\n",
              "        text-align: right;\n",
              "    }\n",
              "</style>\n",
              "<table border=\"1\" class=\"dataframe\">\n",
              "  <thead>\n",
              "    <tr style=\"text-align: right;\">\n",
              "      <th></th>\n",
              "      <th>Year_Birth</th>\n",
              "      <th>Education</th>\n",
              "      <th>Marital_Status</th>\n",
              "      <th>Income</th>\n",
              "      <th>Kidhome</th>\n",
              "      <th>Teenhome</th>\n",
              "      <th>Recency</th>\n",
              "      <th>MntGoldProds</th>\n",
              "      <th>NumDealsPurchases</th>\n",
              "      <th>NumWebVisitsMonth</th>\n",
              "      <th>AcceptedCmp3</th>\n",
              "      <th>AcceptedCmp4</th>\n",
              "      <th>AcceptedCmp5</th>\n",
              "      <th>AcceptedCmp1</th>\n",
              "      <th>AcceptedCmp2</th>\n",
              "      <th>Complain</th>\n",
              "      <th>Response</th>\n",
              "      <th>Frequency</th>\n",
              "      <th>Revenue</th>\n",
              "    </tr>\n",
              "  </thead>\n",
              "  <tbody>\n",
              "    <tr>\n",
              "      <th>1</th>\n",
              "      <td>1954</td>\n",
              "      <td>Graduation</td>\n",
              "      <td>Single</td>\n",
              "      <td>46344.0</td>\n",
              "      <td>1</td>\n",
              "      <td>1</td>\n",
              "      <td>38</td>\n",
              "      <td>6</td>\n",
              "      <td>2</td>\n",
              "      <td>5</td>\n",
              "      <td>0</td>\n",
              "      <td>0</td>\n",
              "      <td>0</td>\n",
              "      <td>0</td>\n",
              "      <td>0</td>\n",
              "      <td>0</td>\n",
              "      <td>0</td>\n",
              "      <td>4</td>\n",
              "      <td>21</td>\n",
              "    </tr>\n",
              "    <tr>\n",
              "      <th>2</th>\n",
              "      <td>1965</td>\n",
              "      <td>Graduation</td>\n",
              "      <td>Together</td>\n",
              "      <td>71613.0</td>\n",
              "      <td>0</td>\n",
              "      <td>0</td>\n",
              "      <td>26</td>\n",
              "      <td>42</td>\n",
              "      <td>1</td>\n",
              "      <td>4</td>\n",
              "      <td>0</td>\n",
              "      <td>0</td>\n",
              "      <td>0</td>\n",
              "      <td>0</td>\n",
              "      <td>0</td>\n",
              "      <td>0</td>\n",
              "      <td>0</td>\n",
              "      <td>20</td>\n",
              "      <td>734</td>\n",
              "    </tr>\n",
              "    <tr>\n",
              "      <th>3</th>\n",
              "      <td>1984</td>\n",
              "      <td>Graduation</td>\n",
              "      <td>Together</td>\n",
              "      <td>26646.0</td>\n",
              "      <td>1</td>\n",
              "      <td>0</td>\n",
              "      <td>26</td>\n",
              "      <td>5</td>\n",
              "      <td>2</td>\n",
              "      <td>6</td>\n",
              "      <td>0</td>\n",
              "      <td>0</td>\n",
              "      <td>0</td>\n",
              "      <td>0</td>\n",
              "      <td>0</td>\n",
              "      <td>0</td>\n",
              "      <td>0</td>\n",
              "      <td>6</td>\n",
              "      <td>48</td>\n",
              "    </tr>\n",
              "    <tr>\n",
              "      <th>4</th>\n",
              "      <td>1981</td>\n",
              "      <td>PhD</td>\n",
              "      <td>Married</td>\n",
              "      <td>58293.0</td>\n",
              "      <td>1</td>\n",
              "      <td>0</td>\n",
              "      <td>94</td>\n",
              "      <td>15</td>\n",
              "      <td>5</td>\n",
              "      <td>5</td>\n",
              "      <td>0</td>\n",
              "      <td>0</td>\n",
              "      <td>0</td>\n",
              "      <td>0</td>\n",
              "      <td>0</td>\n",
              "      <td>0</td>\n",
              "      <td>0</td>\n",
              "      <td>14</td>\n",
              "      <td>407</td>\n",
              "    </tr>\n",
              "    <tr>\n",
              "      <th>5</th>\n",
              "      <td>1967</td>\n",
              "      <td>Master</td>\n",
              "      <td>Together</td>\n",
              "      <td>62513.0</td>\n",
              "      <td>0</td>\n",
              "      <td>1</td>\n",
              "      <td>16</td>\n",
              "      <td>14</td>\n",
              "      <td>2</td>\n",
              "      <td>6</td>\n",
              "      <td>0</td>\n",
              "      <td>0</td>\n",
              "      <td>0</td>\n",
              "      <td>0</td>\n",
              "      <td>0</td>\n",
              "      <td>0</td>\n",
              "      <td>0</td>\n",
              "      <td>20</td>\n",
              "      <td>702</td>\n",
              "    </tr>\n",
              "  </tbody>\n",
              "</table>\n",
              "</div>"
            ],
            "text/plain": [
              "   Year_Birth   Education Marital_Status  ...  Response  Frequency  Revenue\n",
              "1        1954  Graduation         Single  ...         0          4       21\n",
              "2        1965  Graduation       Together  ...         0         20      734\n",
              "3        1984  Graduation       Together  ...         0          6       48\n",
              "4        1981         PhD        Married  ...         0         14      407\n",
              "5        1967      Master       Together  ...         0         20      702\n",
              "\n",
              "[5 rows x 19 columns]"
            ]
          },
          "metadata": {
            "tags": []
          },
          "execution_count": 680
        }
      ]
    },
    {
      "cell_type": "markdown",
      "metadata": {
        "id": "osqz8MIV1qHo",
        "colab_type": "text"
      },
      "source": [
        "# 2. Classification Model"
      ]
    },
    {
      "cell_type": "markdown",
      "metadata": {
        "id": "iOObuGtj6n5A",
        "colab_type": "text"
      },
      "source": [
        "## 2.1 Dataframe informations"
      ]
    },
    {
      "cell_type": "code",
      "metadata": {
        "id": "KuCwd-9u7G1q",
        "colab_type": "code",
        "cellView": "form",
        "outputId": "e5ebffad-c6e3-4aae-b5c8-5704bf1927fa",
        "colab": {
          "base_uri": "https://localhost:8080/",
          "height": 295
        }
      },
      "source": [
        "#@title Response (before oversampling)\n",
        "sns.countplot(df_old['Response']);\n",
        "plt.xlabel('Campaign Success or Failure'); \n",
        "plt.ylabel('Count'); plt.title('Campaign Success or Failure Countplot');\n",
        "\n",
        "#sns.countplot('SuccessfulBool', data=df)"
      ],
      "execution_count": 0,
      "outputs": [
        {
          "output_type": "display_data",
          "data": {
            "image/png": "[encoded data removed]",
            "text/plain": [
              "<Figure size 432x288 with 1 Axes>"
            ]
          },
          "metadata": {
            "tags": [],
            "needs_background": "light"
          }
        }
      ]
    },
    {
      "cell_type": "code",
      "metadata": {
        "id": "Fm1RcWc7reeQ",
        "colab_type": "code",
        "cellView": "form",
        "outputId": "2a65502e-3539-4df6-c64c-353112c728b2",
        "colab": {
          "base_uri": "https://localhost:8080/",
          "height": 479
        }
      },
      "source": [
        "#@title Info\n",
        "df.info()"
      ],
      "execution_count": 0,
      "outputs": [
        {
          "output_type": "stream",
          "text": [
            "<class 'pandas.core.frame.DataFrame'>\n",
            "Int64Index: 3812 entries, 1 to 397\n",
            "Data columns (total 19 columns):\n",
            " #   Column             Non-Null Count  Dtype  \n",
            "---  ------             --------------  -----  \n",
            " 0   Year_Birth         3812 non-null   int64  \n",
            " 1   Education          3812 non-null   object \n",
            " 2   Marital_Status     3812 non-null   object \n",
            " 3   Income             3812 non-null   float64\n",
            " 4   Kidhome            3812 non-null   int64  \n",
            " 5   Teenhome           3812 non-null   int64  \n",
            " 6   Recency            3812 non-null   int64  \n",
            " 7   MntGoldProds       3812 non-null   int64  \n",
            " 8   NumDealsPurchases  3812 non-null   int64  \n",
            " 9   NumWebVisitsMonth  3812 non-null   int64  \n",
            " 10  AcceptedCmp3       3812 non-null   int64  \n",
            " 11  AcceptedCmp4       3812 non-null   int64  \n",
            " 12  AcceptedCmp5       3812 non-null   int64  \n",
            " 13  AcceptedCmp1       3812 non-null   int64  \n",
            " 14  AcceptedCmp2       3812 non-null   int64  \n",
            " 15  Complain           3812 non-null   int64  \n",
            " 16  Response           3812 non-null   int64  \n",
            " 17  Frequency          3812 non-null   int64  \n",
            " 18  Revenue            3812 non-null   int64  \n",
            "dtypes: float64(1), int64(16), object(2)\n",
            "memory usage: 595.6+ KB\n"
          ],
          "name": "stdout"
        }
      ]
    },
    {
      "cell_type": "code",
      "metadata": {
        "id": "JWPFMMpHqMlh",
        "colab_type": "code",
        "cellView": "form",
        "outputId": "9bd65614-20b9-4354-f7de-4c526db5487f",
        "colab": {
          "base_uri": "https://localhost:8080/",
          "height": 380
        }
      },
      "source": [
        "#@title Null values\n",
        "sns.heatmap(df.isnull(), cbar=False)"
      ],
      "execution_count": 0,
      "outputs": [
        {
          "output_type": "execute_result",
          "data": {
            "text/plain": [
              "<matplotlib.axes._subplots.AxesSubplot at 0x7fbe23eb9358>"
            ]
          },
          "metadata": {
            "tags": []
          },
          "execution_count": 683
        },
        {
          "output_type": "display_data",
          "data": {
            "image/png": "[encoded data removed]",
            "text/plain": [
              "<Figure size 432x288 with 1 Axes>"
            ]
          },
          "metadata": {
            "tags": [],
            "needs_background": "light"
          }
        }
      ]
    },
    {
      "cell_type": "markdown",
      "metadata": {
        "id": "aA1Wjwvv6xIs",
        "colab_type": "text"
      },
      "source": [
        "## 2.2. Outliers"
      ]
    },
    {
      "cell_type": "code",
      "metadata": {
        "id": "w8NzDzC8HrSF",
        "colab_type": "code",
        "outputId": "4f14ad57-35e5-4739-db8e-4e48318608fd",
        "cellView": "form",
        "colab": {
          "base_uri": "https://localhost:8080/",
          "height": 546
        }
      },
      "source": [
        "#@title Outliers\n",
        "df.describe().transpose()"
      ],
      "execution_count": 0,
      "outputs": [
        {
          "output_type": "execute_result",
          "data": {
            "text/html": [
              "<div>\n",
              "<style scoped>\n",
              "    .dataframe tbody tr th:only-of-type {\n",
              "        vertical-align: middle;\n",
              "    }\n",
              "\n",
              "    .dataframe tbody tr th {\n",
              "        vertical-align: top;\n",
              "    }\n",
              "\n",
              "    .dataframe thead th {\n",
              "        text-align: right;\n",
              "    }\n",
              "</style>\n",
              "<table border=\"1\" class=\"dataframe\">\n",
              "  <thead>\n",
              "    <tr style=\"text-align: right;\">\n",
              "      <th></th>\n",
              "      <th>count</th>\n",
              "      <th>mean</th>\n",
              "      <th>std</th>\n",
              "      <th>min</th>\n",
              "      <th>25%</th>\n",
              "      <th>50%</th>\n",
              "      <th>75%</th>\n",
              "      <th>max</th>\n",
              "    </tr>\n",
              "  </thead>\n",
              "  <tbody>\n",
              "    <tr>\n",
              "      <th>Year_Birth</th>\n",
              "      <td>3812.0</td>\n",
              "      <td>1969.014953</td>\n",
              "      <td>12.223775</td>\n",
              "      <td>1893.0</td>\n",
              "      <td>1959.0</td>\n",
              "      <td>1970.0</td>\n",
              "      <td>1978.00</td>\n",
              "      <td>1996.0</td>\n",
              "    </tr>\n",
              "    <tr>\n",
              "      <th>Income</th>\n",
              "      <td>3812.0</td>\n",
              "      <td>55548.044540</td>\n",
              "      <td>24587.372343</td>\n",
              "      <td>1730.0</td>\n",
              "      <td>37070.0</td>\n",
              "      <td>55320.5</td>\n",
              "      <td>74128.25</td>\n",
              "      <td>666666.0</td>\n",
              "    </tr>\n",
              "    <tr>\n",
              "      <th>Kidhome</th>\n",
              "      <td>3812.0</td>\n",
              "      <td>0.401364</td>\n",
              "      <td>0.521365</td>\n",
              "      <td>0.0</td>\n",
              "      <td>0.0</td>\n",
              "      <td>0.0</td>\n",
              "      <td>1.00</td>\n",
              "      <td>2.0</td>\n",
              "    </tr>\n",
              "    <tr>\n",
              "      <th>Teenhome</th>\n",
              "      <td>3812.0</td>\n",
              "      <td>0.421039</td>\n",
              "      <td>0.533140</td>\n",
              "      <td>0.0</td>\n",
              "      <td>0.0</td>\n",
              "      <td>0.0</td>\n",
              "      <td>1.00</td>\n",
              "      <td>2.0</td>\n",
              "    </tr>\n",
              "    <tr>\n",
              "      <th>Recency</th>\n",
              "      <td>3812.0</td>\n",
              "      <td>43.697009</td>\n",
              "      <td>29.311343</td>\n",
              "      <td>0.0</td>\n",
              "      <td>17.0</td>\n",
              "      <td>41.0</td>\n",
              "      <td>69.00</td>\n",
              "      <td>99.0</td>\n",
              "    </tr>\n",
              "    <tr>\n",
              "      <th>MntGoldProds</th>\n",
              "      <td>3812.0</td>\n",
              "      <td>51.714586</td>\n",
              "      <td>55.238909</td>\n",
              "      <td>0.0</td>\n",
              "      <td>13.0</td>\n",
              "      <td>31.0</td>\n",
              "      <td>71.25</td>\n",
              "      <td>362.0</td>\n",
              "    </tr>\n",
              "    <tr>\n",
              "      <th>NumDealsPurchases</th>\n",
              "      <td>3812.0</td>\n",
              "      <td>2.313221</td>\n",
              "      <td>1.963456</td>\n",
              "      <td>0.0</td>\n",
              "      <td>1.0</td>\n",
              "      <td>2.0</td>\n",
              "      <td>3.00</td>\n",
              "      <td>15.0</td>\n",
              "    </tr>\n",
              "    <tr>\n",
              "      <th>NumWebVisitsMonth</th>\n",
              "      <td>3812.0</td>\n",
              "      <td>5.308499</td>\n",
              "      <td>2.488873</td>\n",
              "      <td>0.0</td>\n",
              "      <td>3.0</td>\n",
              "      <td>6.0</td>\n",
              "      <td>7.00</td>\n",
              "      <td>20.0</td>\n",
              "    </tr>\n",
              "    <tr>\n",
              "      <th>AcceptedCmp3</th>\n",
              "      <td>3812.0</td>\n",
              "      <td>0.138510</td>\n",
              "      <td>0.345480</td>\n",
              "      <td>0.0</td>\n",
              "      <td>0.0</td>\n",
              "      <td>0.0</td>\n",
              "      <td>0.00</td>\n",
              "      <td>1.0</td>\n",
              "    </tr>\n",
              "    <tr>\n",
              "      <th>AcceptedCmp4</th>\n",
              "      <td>3812.0</td>\n",
              "      <td>0.123820</td>\n",
              "      <td>0.329419</td>\n",
              "      <td>0.0</td>\n",
              "      <td>0.0</td>\n",
              "      <td>0.0</td>\n",
              "      <td>0.00</td>\n",
              "      <td>1.0</td>\n",
              "    </tr>\n",
              "    <tr>\n",
              "      <th>AcceptedCmp5</th>\n",
              "      <td>3812.0</td>\n",
              "      <td>0.155299</td>\n",
              "      <td>0.362237</td>\n",
              "      <td>0.0</td>\n",
              "      <td>0.0</td>\n",
              "      <td>0.0</td>\n",
              "      <td>0.00</td>\n",
              "      <td>1.0</td>\n",
              "    </tr>\n",
              "    <tr>\n",
              "      <th>AcceptedCmp1</th>\n",
              "      <td>3812.0</td>\n",
              "      <td>0.135624</td>\n",
              "      <td>0.342434</td>\n",
              "      <td>0.0</td>\n",
              "      <td>0.0</td>\n",
              "      <td>0.0</td>\n",
              "      <td>0.00</td>\n",
              "      <td>1.0</td>\n",
              "    </tr>\n",
              "    <tr>\n",
              "      <th>AcceptedCmp2</th>\n",
              "      <td>3812.0</td>\n",
              "      <td>0.028069</td>\n",
              "      <td>0.165192</td>\n",
              "      <td>0.0</td>\n",
              "      <td>0.0</td>\n",
              "      <td>0.0</td>\n",
              "      <td>0.00</td>\n",
              "      <td>1.0</td>\n",
              "    </tr>\n",
              "    <tr>\n",
              "      <th>Complain</th>\n",
              "      <td>3812.0</td>\n",
              "      <td>0.013116</td>\n",
              "      <td>0.113789</td>\n",
              "      <td>0.0</td>\n",
              "      <td>0.0</td>\n",
              "      <td>0.0</td>\n",
              "      <td>0.00</td>\n",
              "      <td>1.0</td>\n",
              "    </tr>\n",
              "    <tr>\n",
              "      <th>Response</th>\n",
              "      <td>3812.0</td>\n",
              "      <td>0.500000</td>\n",
              "      <td>0.500066</td>\n",
              "      <td>0.0</td>\n",
              "      <td>0.0</td>\n",
              "      <td>0.5</td>\n",
              "      <td>1.00</td>\n",
              "      <td>1.0</td>\n",
              "    </tr>\n",
              "    <tr>\n",
              "      <th>Frequency</th>\n",
              "      <td>3812.0</td>\n",
              "      <td>13.724816</td>\n",
              "      <td>7.193439</td>\n",
              "      <td>0.0</td>\n",
              "      <td>6.0</td>\n",
              "      <td>14.0</td>\n",
              "      <td>20.00</td>\n",
              "      <td>32.0</td>\n",
              "    </tr>\n",
              "    <tr>\n",
              "      <th>Revenue</th>\n",
              "      <td>3812.0</td>\n",
              "      <td>712.632476</td>\n",
              "      <td>650.659238</td>\n",
              "      <td>4.0</td>\n",
              "      <td>73.0</td>\n",
              "      <td>537.0</td>\n",
              "      <td>1234.00</td>\n",
              "      <td>2491.0</td>\n",
              "    </tr>\n",
              "  </tbody>\n",
              "</table>\n",
              "</div>"
            ],
            "text/plain": [
              "                    count          mean  ...       75%       max\n",
              "Year_Birth         3812.0   1969.014953  ...   1978.00    1996.0\n",
              "Income             3812.0  55548.044540  ...  74128.25  666666.0\n",
              "Kidhome            3812.0      0.401364  ...      1.00       2.0\n",
              "Teenhome           3812.0      0.421039  ...      1.00       2.0\n",
              "Recency            3812.0     43.697009  ...     69.00      99.0\n",
              "MntGoldProds       3812.0     51.714586  ...     71.25     362.0\n",
              "NumDealsPurchases  3812.0      2.313221  ...      3.00      15.0\n",
              "NumWebVisitsMonth  3812.0      5.308499  ...      7.00      20.0\n",
              "AcceptedCmp3       3812.0      0.138510  ...      0.00       1.0\n",
              "AcceptedCmp4       3812.0      0.123820  ...      0.00       1.0\n",
              "AcceptedCmp5       3812.0      0.155299  ...      0.00       1.0\n",
              "AcceptedCmp1       3812.0      0.135624  ...      0.00       1.0\n",
              "AcceptedCmp2       3812.0      0.028069  ...      0.00       1.0\n",
              "Complain           3812.0      0.013116  ...      0.00       1.0\n",
              "Response           3812.0      0.500000  ...      1.00       1.0\n",
              "Frequency          3812.0     13.724816  ...     20.00      32.0\n",
              "Revenue            3812.0    712.632476  ...   1234.00    2491.0\n",
              "\n",
              "[17 rows x 8 columns]"
            ]
          },
          "metadata": {
            "tags": []
          },
          "execution_count": 684
        }
      ]
    },
    {
      "cell_type": "code",
      "metadata": {
        "id": "tBcNKNalIuUg",
        "colab_type": "code",
        "cellView": "form",
        "colab": {}
      },
      "source": [
        "#@title Generate Interquartile Range\n",
        "first_quartile = df['Income'].describe()['25%']\n",
        "\n",
        "third_quartile = df['Income'].describe()['75%']\n",
        "\n",
        "iqr = third_quartile - first_quartile\n",
        "\n",
        "df_income_iqr = df[(df['Income'] > first_quartile) & (df['Income'] < third_quartile)]\n",
        "\n",
        "#-------------------------------------------------------------------------\n",
        "\n",
        "df_iqr_trimmed = df_income_iqr\n",
        "\n",
        "first_quartile = df['MntGoldProds'].describe()['25%']\n",
        "third_quartile = df['MntGoldProds'].describe()['75%']\n",
        "\n",
        "iqr = third_quartile - first_quartile\n",
        "\n",
        "df_iqr_trimmed = df[(df['MntGoldProds'] > first_quartile) & (df['MntGoldProds'] < third_quartile)]\n",
        "\n",
        "#-------------------------------------------------------------------\n"
      ],
      "execution_count": 0,
      "outputs": []
    },
    {
      "cell_type": "code",
      "metadata": {
        "id": "09R_us7fLi7I",
        "colab_type": "code",
        "outputId": "a2f7eae4-8609-4fe2-a902-23c39f3ccc7d",
        "cellView": "form",
        "colab": {
          "base_uri": "https://localhost:8080/",
          "height": 295
        }
      },
      "source": [
        "#@title Before Interquartile (Income)\n",
        "plt.hist(df['Income'], edgecolor = 'black');\n",
        "plt.xlabel('Campaign Income USD'); \n",
        "plt.ylabel('Count'); plt.title('Campaign Income Distribution');"
      ],
      "execution_count": 0,
      "outputs": [
        {
          "output_type": "display_data",
          "data": {
            "image/png": "[encoded data removed]",
            "text/plain": [
              "<Figure size 432x288 with 1 Axes>"
            ]
          },
          "metadata": {
            "tags": [],
            "needs_background": "light"
          }
        }
      ]
    },
    {
      "cell_type": "code",
      "metadata": {
        "id": "US9MSCwyI3xn",
        "colab_type": "code",
        "outputId": "987b8036-3670-4910-cc4d-300cd5fefa92",
        "cellView": "form",
        "colab": {
          "base_uri": "https://localhost:8080/",
          "height": 295
        }
      },
      "source": [
        "#@title After Interquartile\n",
        "# Histogram Plot of Site EUI\n",
        "#plt.figure.figsize(8, 8)\n",
        "plt.hist(df_income_iqr['Income'], edgecolor = 'black');\n",
        "plt.xlabel('Campaign Income USD'); \n",
        "plt.ylabel('Count'); plt.title('Campaign Income Distribution');\n"
      ],
      "execution_count": 0,
      "outputs": [
        {
          "output_type": "display_data",
          "data": {
            "image/png": "[encoded data removed]",
            "text/plain": [
              "<Figure size 432x288 with 1 Axes>"
            ]
          },
          "metadata": {
            "tags": [],
            "needs_background": "light"
          }
        }
      ]
    },
    {
      "cell_type": "code",
      "metadata": {
        "id": "8ZODQDoIJNPn",
        "colab_type": "code",
        "outputId": "136f940d-67b2-44a6-9192-02eff926eceb",
        "cellView": "form",
        "colab": {
          "base_uri": "https://localhost:8080/",
          "height": 337
        }
      },
      "source": [
        "#@title Correlation\n",
        "df_income_iqr.corr()['Response'].sort_values()"
      ],
      "execution_count": 0,
      "outputs": [
        {
          "output_type": "execute_result",
          "data": {
            "text/plain": [
              "Recency             -0.280966\n",
              "Teenhome            -0.192134\n",
              "Year_Birth          -0.043891\n",
              "Kidhome             -0.035676\n",
              "Income               0.050407\n",
              "Complain             0.068851\n",
              "MntGoldProds         0.131955\n",
              "NumDealsPurchases    0.144030\n",
              "AcceptedCmp2         0.146799\n",
              "AcceptedCmp4         0.158420\n",
              "NumWebVisitsMonth    0.196895\n",
              "Frequency            0.205070\n",
              "AcceptedCmp5         0.213852\n",
              "AcceptedCmp1         0.215330\n",
              "AcceptedCmp3         0.246536\n",
              "Revenue              0.289796\n",
              "Response             1.000000\n",
              "Name: Response, dtype: float64"
            ]
          },
          "metadata": {
            "tags": []
          },
          "execution_count": 688
        }
      ]
    },
    {
      "cell_type": "code",
      "metadata": {
        "id": "82K7PChKQKFn",
        "colab_type": "code",
        "cellView": "form",
        "outputId": "19beeb4a-93f0-4df4-9fd6-36a87236dbf3",
        "colab": {
          "base_uri": "https://localhost:8080/",
          "height": 546
        }
      },
      "source": [
        "#@title Outlier treatment\n",
        "#df_iqr_trimmed = df_iqr_trimmed\n",
        "df_iqr_trimmed.describe().transpose()"
      ],
      "execution_count": 0,
      "outputs": [
        {
          "output_type": "execute_result",
          "data": {
            "text/html": [
              "<div>\n",
              "<style scoped>\n",
              "    .dataframe tbody tr th:only-of-type {\n",
              "        vertical-align: middle;\n",
              "    }\n",
              "\n",
              "    .dataframe tbody tr th {\n",
              "        vertical-align: top;\n",
              "    }\n",
              "\n",
              "    .dataframe thead th {\n",
              "        text-align: right;\n",
              "    }\n",
              "</style>\n",
              "<table border=\"1\" class=\"dataframe\">\n",
              "  <thead>\n",
              "    <tr style=\"text-align: right;\">\n",
              "      <th></th>\n",
              "      <th>count</th>\n",
              "      <th>mean</th>\n",
              "      <th>std</th>\n",
              "      <th>min</th>\n",
              "      <th>25%</th>\n",
              "      <th>50%</th>\n",
              "      <th>75%</th>\n",
              "      <th>max</th>\n",
              "    </tr>\n",
              "  </thead>\n",
              "  <tbody>\n",
              "    <tr>\n",
              "      <th>Year_Birth</th>\n",
              "      <td>726.0</td>\n",
              "      <td>1970.005510</td>\n",
              "      <td>11.401995</td>\n",
              "      <td>1943.0</td>\n",
              "      <td>1962.00</td>\n",
              "      <td>1972.0</td>\n",
              "      <td>1979.00</td>\n",
              "      <td>1992.0</td>\n",
              "    </tr>\n",
              "    <tr>\n",
              "      <th>Income</th>\n",
              "      <td>726.0</td>\n",
              "      <td>46283.973837</td>\n",
              "      <td>18898.140640</td>\n",
              "      <td>7500.0</td>\n",
              "      <td>31389.00</td>\n",
              "      <td>43858.0</td>\n",
              "      <td>62789.75</td>\n",
              "      <td>85693.0</td>\n",
              "    </tr>\n",
              "    <tr>\n",
              "      <th>Kidhome</th>\n",
              "      <td>726.0</td>\n",
              "      <td>0.568871</td>\n",
              "      <td>0.525300</td>\n",
              "      <td>0.0</td>\n",
              "      <td>0.00</td>\n",
              "      <td>1.0</td>\n",
              "      <td>1.00</td>\n",
              "      <td>2.0</td>\n",
              "    </tr>\n",
              "    <tr>\n",
              "      <th>Teenhome</th>\n",
              "      <td>726.0</td>\n",
              "      <td>0.498623</td>\n",
              "      <td>0.524567</td>\n",
              "      <td>0.0</td>\n",
              "      <td>0.00</td>\n",
              "      <td>0.0</td>\n",
              "      <td>1.00</td>\n",
              "      <td>2.0</td>\n",
              "    </tr>\n",
              "    <tr>\n",
              "      <th>Recency</th>\n",
              "      <td>726.0</td>\n",
              "      <td>45.907713</td>\n",
              "      <td>28.898367</td>\n",
              "      <td>0.0</td>\n",
              "      <td>23.00</td>\n",
              "      <td>43.0</td>\n",
              "      <td>69.75</td>\n",
              "      <td>99.0</td>\n",
              "    </tr>\n",
              "    <tr>\n",
              "      <th>MntGoldProds</th>\n",
              "      <td>726.0</td>\n",
              "      <td>41.969697</td>\n",
              "      <td>49.109973</td>\n",
              "      <td>0.0</td>\n",
              "      <td>11.00</td>\n",
              "      <td>23.0</td>\n",
              "      <td>50.00</td>\n",
              "      <td>247.0</td>\n",
              "    </tr>\n",
              "    <tr>\n",
              "      <th>NumDealsPurchases</th>\n",
              "      <td>726.0</td>\n",
              "      <td>2.000000</td>\n",
              "      <td>0.000000</td>\n",
              "      <td>2.0</td>\n",
              "      <td>2.00</td>\n",
              "      <td>2.0</td>\n",
              "      <td>2.00</td>\n",
              "      <td>2.0</td>\n",
              "    </tr>\n",
              "    <tr>\n",
              "      <th>NumWebVisitsMonth</th>\n",
              "      <td>726.0</td>\n",
              "      <td>5.946281</td>\n",
              "      <td>1.718421</td>\n",
              "      <td>1.0</td>\n",
              "      <td>5.00</td>\n",
              "      <td>6.0</td>\n",
              "      <td>7.00</td>\n",
              "      <td>9.0</td>\n",
              "    </tr>\n",
              "    <tr>\n",
              "      <th>AcceptedCmp3</th>\n",
              "      <td>726.0</td>\n",
              "      <td>0.183196</td>\n",
              "      <td>0.387093</td>\n",
              "      <td>0.0</td>\n",
              "      <td>0.00</td>\n",
              "      <td>0.0</td>\n",
              "      <td>0.00</td>\n",
              "      <td>1.0</td>\n",
              "    </tr>\n",
              "    <tr>\n",
              "      <th>AcceptedCmp4</th>\n",
              "      <td>726.0</td>\n",
              "      <td>0.064738</td>\n",
              "      <td>0.246233</td>\n",
              "      <td>0.0</td>\n",
              "      <td>0.00</td>\n",
              "      <td>0.0</td>\n",
              "      <td>0.00</td>\n",
              "      <td>1.0</td>\n",
              "    </tr>\n",
              "    <tr>\n",
              "      <th>AcceptedCmp5</th>\n",
              "      <td>726.0</td>\n",
              "      <td>0.037190</td>\n",
              "      <td>0.189358</td>\n",
              "      <td>0.0</td>\n",
              "      <td>0.00</td>\n",
              "      <td>0.0</td>\n",
              "      <td>0.00</td>\n",
              "      <td>1.0</td>\n",
              "    </tr>\n",
              "    <tr>\n",
              "      <th>AcceptedCmp1</th>\n",
              "      <td>726.0</td>\n",
              "      <td>0.037190</td>\n",
              "      <td>0.189358</td>\n",
              "      <td>0.0</td>\n",
              "      <td>0.00</td>\n",
              "      <td>0.0</td>\n",
              "      <td>0.00</td>\n",
              "      <td>1.0</td>\n",
              "    </tr>\n",
              "    <tr>\n",
              "      <th>AcceptedCmp2</th>\n",
              "      <td>726.0</td>\n",
              "      <td>0.005510</td>\n",
              "      <td>0.074073</td>\n",
              "      <td>0.0</td>\n",
              "      <td>0.00</td>\n",
              "      <td>0.0</td>\n",
              "      <td>0.00</td>\n",
              "      <td>1.0</td>\n",
              "    </tr>\n",
              "    <tr>\n",
              "      <th>Complain</th>\n",
              "      <td>726.0</td>\n",
              "      <td>0.023416</td>\n",
              "      <td>0.151325</td>\n",
              "      <td>0.0</td>\n",
              "      <td>0.00</td>\n",
              "      <td>0.0</td>\n",
              "      <td>0.00</td>\n",
              "      <td>1.0</td>\n",
              "    </tr>\n",
              "    <tr>\n",
              "      <th>Response</th>\n",
              "      <td>726.0</td>\n",
              "      <td>0.381543</td>\n",
              "      <td>0.486100</td>\n",
              "      <td>0.0</td>\n",
              "      <td>0.00</td>\n",
              "      <td>0.0</td>\n",
              "      <td>1.00</td>\n",
              "      <td>1.0</td>\n",
              "    </tr>\n",
              "    <tr>\n",
              "      <th>Frequency</th>\n",
              "      <td>726.0</td>\n",
              "      <td>11.209366</td>\n",
              "      <td>6.944924</td>\n",
              "      <td>4.0</td>\n",
              "      <td>5.00</td>\n",
              "      <td>8.0</td>\n",
              "      <td>17.00</td>\n",
              "      <td>32.0</td>\n",
              "    </tr>\n",
              "    <tr>\n",
              "      <th>Revenue</th>\n",
              "      <td>726.0</td>\n",
              "      <td>436.140496</td>\n",
              "      <td>500.698596</td>\n",
              "      <td>15.0</td>\n",
              "      <td>43.25</td>\n",
              "      <td>152.5</td>\n",
              "      <td>780.75</td>\n",
              "      <td>2188.0</td>\n",
              "    </tr>\n",
              "  </tbody>\n",
              "</table>\n",
              "</div>"
            ],
            "text/plain": [
              "                   count          mean  ...       75%      max\n",
              "Year_Birth         726.0   1970.005510  ...   1979.00   1992.0\n",
              "Income             726.0  46283.973837  ...  62789.75  85693.0\n",
              "Kidhome            726.0      0.568871  ...      1.00      2.0\n",
              "Teenhome           726.0      0.498623  ...      1.00      2.0\n",
              "Recency            726.0     45.907713  ...     69.75     99.0\n",
              "MntGoldProds       726.0     41.969697  ...     50.00    247.0\n",
              "NumDealsPurchases  726.0      2.000000  ...      2.00      2.0\n",
              "NumWebVisitsMonth  726.0      5.946281  ...      7.00      9.0\n",
              "AcceptedCmp3       726.0      0.183196  ...      0.00      1.0\n",
              "AcceptedCmp4       726.0      0.064738  ...      0.00      1.0\n",
              "AcceptedCmp5       726.0      0.037190  ...      0.00      1.0\n",
              "AcceptedCmp1       726.0      0.037190  ...      0.00      1.0\n",
              "AcceptedCmp2       726.0      0.005510  ...      0.00      1.0\n",
              "Complain           726.0      0.023416  ...      0.00      1.0\n",
              "Response           726.0      0.381543  ...      1.00      1.0\n",
              "Frequency          726.0     11.209366  ...     17.00     32.0\n",
              "Revenue            726.0    436.140496  ...    780.75   2188.0\n",
              "\n",
              "[17 rows x 8 columns]"
            ]
          },
          "metadata": {
            "tags": []
          },
          "execution_count": 689
        }
      ]
    },
    {
      "cell_type": "code",
      "metadata": {
        "id": "199badYmQhtk",
        "colab_type": "code",
        "outputId": "4822aa2e-1591-4d54-a215-e4d2a5ff2ea9",
        "cellView": "form",
        "colab": {
          "base_uri": "https://localhost:8080/",
          "height": 337
        }
      },
      "source": [
        "#@title Correlation\n",
        "df_iqr_trimmed.corr()['Response'].sort_values()"
      ],
      "execution_count": 0,
      "outputs": [
        {
          "output_type": "execute_result",
          "data": {
            "text/plain": [
              "Teenhome            -0.384696\n",
              "Recency             -0.209873\n",
              "Income              -0.040478\n",
              "Frequency            0.062922\n",
              "Kidhome              0.094113\n",
              "AcceptedCmp2         0.094764\n",
              "MntGoldProds         0.107260\n",
              "Complain             0.122140\n",
              "AcceptedCmp4         0.139061\n",
              "AcceptedCmp1         0.145329\n",
              "Year_Birth           0.150181\n",
              "AcceptedCmp5         0.160313\n",
              "Revenue              0.164369\n",
              "NumWebVisitsMonth    0.226020\n",
              "AcceptedCmp3         0.434354\n",
              "Response             1.000000\n",
              "NumDealsPurchases         NaN\n",
              "Name: Response, dtype: float64"
            ]
          },
          "metadata": {
            "tags": []
          },
          "execution_count": 690
        }
      ]
    },
    {
      "cell_type": "markdown",
      "metadata": {
        "id": "kuLgr2tJ85Vv",
        "colab_type": "text"
      },
      "source": [
        "## 2.3. Feature Engineering"
      ]
    },
    {
      "cell_type": "code",
      "metadata": {
        "id": "ki2kkJb-UXI9",
        "colab_type": "code",
        "cellView": "form",
        "colab": {}
      },
      "source": [
        "#@title Reduced features\n",
        "\n",
        "#reduced_x_features = df_iqr_trimmed.select_dtypes('number')\n",
        "#reduced_x_features = reduced_x_features.drop(['Response'], axis=1)\n",
        "\n",
        "#reduced_x_features = df_iqr_trimmed[[ 'Teenhome','Recency','Revenue','NumWebVisitsMonth','AcceptedCmp3']]\n",
        "\n",
        "#99 RF\n",
        "#reduced_x_features = df_iqr_trimmed[[ 'Teenhome','Recency','AcceptedCmp1','AcceptedCmp4','Frequency','Revenue','NumWebVisitsMonth','AcceptedCmp3']]\n",
        "\n",
        "reduced_x_features = df_iqr_trimmed[[ 'Teenhome','Recency','Frequency','Revenue','NumWebVisitsMonth','AcceptedCmp3']]\n",
        "\n",
        "reduced_y = df_iqr_trimmed['Response']\n",
        "\n"
      ],
      "execution_count": 0,
      "outputs": []
    },
    {
      "cell_type": "code",
      "metadata": {
        "id": "xC9ZYUHeU-MY",
        "colab_type": "code",
        "cellView": "form",
        "outputId": "6469bf5f-a3a7-4905-aa8b-229f6d07968f",
        "colab": {
          "base_uri": "https://localhost:8080/",
          "height": 214
        }
      },
      "source": [
        "#@title Numeric subset\n",
        "# Select the numeric columns\n",
        "numeric_subset = df_iqr_trimmed.select_dtypes('number')\n",
        "numeric_subset.head()"
      ],
      "execution_count": 0,
      "outputs": [
        {
          "output_type": "execute_result",
          "data": {
            "text/html": [
              "<div>\n",
              "<style scoped>\n",
              "    .dataframe tbody tr th:only-of-type {\n",
              "        vertical-align: middle;\n",
              "    }\n",
              "\n",
              "    .dataframe tbody tr th {\n",
              "        vertical-align: top;\n",
              "    }\n",
              "\n",
              "    .dataframe thead th {\n",
              "        text-align: right;\n",
              "    }\n",
              "</style>\n",
              "<table border=\"1\" class=\"dataframe\">\n",
              "  <thead>\n",
              "    <tr style=\"text-align: right;\">\n",
              "      <th></th>\n",
              "      <th>Year_Birth</th>\n",
              "      <th>Income</th>\n",
              "      <th>Kidhome</th>\n",
              "      <th>Teenhome</th>\n",
              "      <th>Recency</th>\n",
              "      <th>MntGoldProds</th>\n",
              "      <th>NumDealsPurchases</th>\n",
              "      <th>NumWebVisitsMonth</th>\n",
              "      <th>AcceptedCmp3</th>\n",
              "      <th>AcceptedCmp4</th>\n",
              "      <th>AcceptedCmp5</th>\n",
              "      <th>AcceptedCmp1</th>\n",
              "      <th>AcceptedCmp2</th>\n",
              "      <th>Complain</th>\n",
              "      <th>Response</th>\n",
              "      <th>Frequency</th>\n",
              "      <th>Revenue</th>\n",
              "    </tr>\n",
              "  </thead>\n",
              "  <tbody>\n",
              "    <tr>\n",
              "      <th>1</th>\n",
              "      <td>1954</td>\n",
              "      <td>46344.0</td>\n",
              "      <td>1</td>\n",
              "      <td>1</td>\n",
              "      <td>38</td>\n",
              "      <td>6</td>\n",
              "      <td>2</td>\n",
              "      <td>5</td>\n",
              "      <td>0</td>\n",
              "      <td>0</td>\n",
              "      <td>0</td>\n",
              "      <td>0</td>\n",
              "      <td>0</td>\n",
              "      <td>0</td>\n",
              "      <td>0</td>\n",
              "      <td>4</td>\n",
              "      <td>21</td>\n",
              "    </tr>\n",
              "    <tr>\n",
              "      <th>3</th>\n",
              "      <td>1984</td>\n",
              "      <td>26646.0</td>\n",
              "      <td>1</td>\n",
              "      <td>0</td>\n",
              "      <td>26</td>\n",
              "      <td>5</td>\n",
              "      <td>2</td>\n",
              "      <td>6</td>\n",
              "      <td>0</td>\n",
              "      <td>0</td>\n",
              "      <td>0</td>\n",
              "      <td>0</td>\n",
              "      <td>0</td>\n",
              "      <td>0</td>\n",
              "      <td>0</td>\n",
              "      <td>6</td>\n",
              "      <td>48</td>\n",
              "    </tr>\n",
              "    <tr>\n",
              "      <th>5</th>\n",
              "      <td>1967</td>\n",
              "      <td>62513.0</td>\n",
              "      <td>0</td>\n",
              "      <td>1</td>\n",
              "      <td>16</td>\n",
              "      <td>14</td>\n",
              "      <td>2</td>\n",
              "      <td>6</td>\n",
              "      <td>0</td>\n",
              "      <td>0</td>\n",
              "      <td>0</td>\n",
              "      <td>0</td>\n",
              "      <td>0</td>\n",
              "      <td>0</td>\n",
              "      <td>0</td>\n",
              "      <td>20</td>\n",
              "      <td>702</td>\n",
              "    </tr>\n",
              "    <tr>\n",
              "      <th>7</th>\n",
              "      <td>1985</td>\n",
              "      <td>33454.0</td>\n",
              "      <td>1</td>\n",
              "      <td>0</td>\n",
              "      <td>32</td>\n",
              "      <td>23</td>\n",
              "      <td>2</td>\n",
              "      <td>8</td>\n",
              "      <td>0</td>\n",
              "      <td>0</td>\n",
              "      <td>0</td>\n",
              "      <td>0</td>\n",
              "      <td>0</td>\n",
              "      <td>0</td>\n",
              "      <td>0</td>\n",
              "      <td>8</td>\n",
              "      <td>146</td>\n",
              "    </tr>\n",
              "    <tr>\n",
              "      <th>17</th>\n",
              "      <td>1946</td>\n",
              "      <td>37760.0</td>\n",
              "      <td>0</td>\n",
              "      <td>0</td>\n",
              "      <td>20</td>\n",
              "      <td>28</td>\n",
              "      <td>2</td>\n",
              "      <td>7</td>\n",
              "      <td>0</td>\n",
              "      <td>0</td>\n",
              "      <td>0</td>\n",
              "      <td>0</td>\n",
              "      <td>0</td>\n",
              "      <td>0</td>\n",
              "      <td>0</td>\n",
              "      <td>11</td>\n",
              "      <td>289</td>\n",
              "    </tr>\n",
              "  </tbody>\n",
              "</table>\n",
              "</div>"
            ],
            "text/plain": [
              "    Year_Birth   Income  Kidhome  ...  Response  Frequency  Revenue\n",
              "1         1954  46344.0        1  ...         0          4       21\n",
              "3         1984  26646.0        1  ...         0          6       48\n",
              "5         1967  62513.0        0  ...         0         20      702\n",
              "7         1985  33454.0        1  ...         0          8      146\n",
              "17        1946  37760.0        0  ...         0         11      289\n",
              "\n",
              "[5 rows x 17 columns]"
            ]
          },
          "metadata": {
            "tags": []
          },
          "execution_count": 710
        }
      ]
    },
    {
      "cell_type": "code",
      "metadata": {
        "id": "pMBc-m0uU_Kl",
        "colab_type": "code",
        "outputId": "cda5b41f-5e20-438b-fa9e-063f6a0f0d33",
        "cellView": "form",
        "colab": {
          "base_uri": "https://localhost:8080/",
          "height": 159
        }
      },
      "source": [
        "#@title Log numeric\n",
        "# Create columns with square root and log of numeric columns\n",
        "for col in numeric_subset.columns:\n",
        "    # Skip the Energy Star Score column\n",
        "    if col == 'Response':\n",
        "        next\n",
        "    else:\n",
        "        numeric_subset['sqrt_' + col] = np.sqrt(numeric_subset[col])\n",
        "        numeric_subset['log_' + col] = np.log(numeric_subset[col])"
      ],
      "execution_count": 0,
      "outputs": [
        {
          "output_type": "stream",
          "text": [
            "/usr/local/lib/python3.6/dist-packages/ipykernel_launcher.py:8: SettingWithCopyWarning: \n",
            "A value is trying to be set on a copy of a slice from a DataFrame.\n",
            "Try using .loc[row_indexer,col_indexer] = value instead\n",
            "\n",
            "See the caveats in the documentation: https://pandas.pydata.org/pandas-docs/stable/user_guide/indexing.html#returning-a-view-versus-a-copy\n",
            "  \n",
            "/usr/local/lib/python3.6/dist-packages/pandas/core/series.py:679: RuntimeWarning: divide by zero encountered in log\n",
            "  result = getattr(ufunc, method)(*inputs, **kwargs)\n"
          ],
          "name": "stderr"
        }
      ]
    },
    {
      "cell_type": "code",
      "metadata": {
        "id": "yzms8cs2VHw9",
        "colab_type": "code",
        "cellView": "form",
        "colab": {}
      },
      "source": [
        "#@title Categorical subset\n",
        "# Select the categorical columns\n",
        "#categorical_subset = df_iqr_trimmed[['Education','Marital_Status','Year_Birth']]\n",
        "categorical_subset = df_iqr_trimmed[['Education','Marital_Status']]\n",
        "\n",
        "# One hot encode\n",
        "categorical_subset = pd.get_dummies(categorical_subset)\n",
        "\n",
        "# Join the two dataframes using concat\n",
        "# Make sure to use axis = 1 to perform a column bind\n",
        "features = pd.concat([numeric_subset, categorical_subset], axis = 1)\n",
        "\n",
        "# Drop buildings without an energy star score\n",
        "features = features.dropna(subset = ['Response'])\n",
        "\n"
      ],
      "execution_count": 0,
      "outputs": []
    },
    {
      "cell_type": "code",
      "metadata": {
        "id": "yFQDelMEK_cl",
        "colab_type": "code",
        "cellView": "form",
        "outputId": "88020dc9-f6ca-45b5-876d-a94075a53c5f",
        "colab": {
          "base_uri": "https://localhost:8080/",
          "height": 124
        }
      },
      "source": [
        "#@title Score correlations\n",
        "# Find correlations with the score \n",
        "correlations = features.corr()['Response'].dropna().sort_values()\n",
        "correlations.head()\n",
        "#reduced_x_features['log_Recency'] = features['log_Recency']"
      ],
      "execution_count": 0,
      "outputs": [
        {
          "output_type": "execute_result",
          "data": {
            "text/plain": [
              "sqrt_Teenhome   -0.386397\n",
              "Teenhome        -0.384696\n",
              "log_Recency     -0.234795\n",
              "sqrt_Recency    -0.220266\n",
              "Recency         -0.209873\n",
              "Name: Response, dtype: float64"
            ]
          },
          "metadata": {
            "tags": []
          },
          "execution_count": 713
        }
      ]
    },
    {
      "cell_type": "code",
      "metadata": {
        "id": "iYYuHLDDF7Sl",
        "colab_type": "code",
        "cellView": "form",
        "outputId": "44ab075b-b797-4edf-d0a3-46000092c2ca",
        "colab": {
          "base_uri": "https://localhost:8080/",
          "height": 592
        }
      },
      "source": [
        "#@title Correlation\n",
        "plt.figure(figsize = (10,8))\n",
        "sns.heatmap(round(df_iqr_trimmed.corr(),1), annot=True);\n",
        "plt.title(\"Feature Correlation\");\n"
      ],
      "execution_count": 0,
      "outputs": [
        {
          "output_type": "display_data",
          "data": {
            "image/png": "[encoded data removed]",
            "text/plain": [
              "<Figure size 720x576 with 2 Axes>"
            ]
          },
          "metadata": {
            "tags": [],
            "needs_background": "light"
          }
        }
      ]
    },
    {
      "cell_type": "markdown",
      "metadata": {
        "id": "fGMzaW3Y9oJJ",
        "colab_type": "text"
      },
      "source": [
        "## 2.4. Model"
      ]
    },
    {
      "cell_type": "code",
      "metadata": {
        "id": "i7hJKlS9H-aI",
        "colab_type": "code",
        "cellView": "form",
        "outputId": "b2ae0ec1-c1e5-4ed8-d6af-817c878530ec",
        "colab": {
          "base_uri": "https://localhost:8080/",
          "height": 88
        }
      },
      "source": [
        "#@title Train test\n",
        "from sklearn.model_selection import train_test_split\n",
        "\n",
        "# Split into 70% training and 30% testing set\n",
        "X, X_test, y, y_test = train_test_split(reduced_x_features, reduced_y, test_size = 0.20, random_state = 101)\n",
        "\n",
        "print(X.shape)\n",
        "print(X_test.shape)\n",
        "print(y.shape)\n",
        "print(y_test.shape)"
      ],
      "execution_count": 0,
      "outputs": [
        {
          "output_type": "stream",
          "text": [
            "(580, 6)\n",
            "(146, 6)\n",
            "(580,)\n",
            "(146,)\n"
          ],
          "name": "stdout"
        }
      ]
    },
    {
      "cell_type": "code",
      "metadata": {
        "id": "AdgEpfTuIHPN",
        "colab_type": "code",
        "cellView": "form",
        "colab": {}
      },
      "source": [
        "#@title Model import\n",
        "# Imputing missing values and scaling values\n",
        "from sklearn.preprocessing import MinMaxScaler\n",
        "\n",
        "# Machine Learning Models\n",
        "from sklearn.linear_model import LogisticRegression, LogisticRegressionCV\n",
        "from sklearn.ensemble import RandomForestClassifier, GradientBoostingClassifier\n",
        "from sklearn.svm import SVC\n",
        "from sklearn.neighbors import KNeighborsClassifier\n",
        "\n",
        "# Hyperparameter tuning\n",
        "from sklearn.model_selection import RandomizedSearchCV, GridSearchCV"
      ],
      "execution_count": 0,
      "outputs": []
    },
    {
      "cell_type": "code",
      "metadata": {
        "id": "8mg3A8znIZHN",
        "colab_type": "code",
        "cellView": "form",
        "colab": {}
      },
      "source": [
        "#@title Fit and evaluate\n",
        "from sklearn.metrics import classification_report, confusion_matrix\n",
        "\n",
        "# Takes in a model, trains the model, and evaluates the model on the test set\n",
        "def fit_and_evaluate(model):\n",
        "    \n",
        "    # Train the model\n",
        "    model.fit(X, y)\n",
        "    \n",
        "    # Make predictions and evalute\n",
        "    predictions = model.predict(X_test)\n",
        "    \n",
        "    # Return the performance metric\n",
        "    return print(classification_report(y_test, predictions), '\\n', confusion_matrix(y_test, predictions))"
      ],
      "execution_count": 0,
      "outputs": []
    },
    {
      "cell_type": "code",
      "metadata": {
        "id": "xLL3jA4qIcj0",
        "colab_type": "code",
        "cellView": "form",
        "outputId": "8f1772ac-1997-47e4-fd1e-90275fbad888",
        "colab": {
          "base_uri": "https://localhost:8080/",
          "height": 355
        }
      },
      "source": [
        "#@title Logistic Regression\n",
        "lr = LogisticRegression()\n",
        "\n",
        "fit_and_evaluate(lr)"
      ],
      "execution_count": 0,
      "outputs": [
        {
          "output_type": "stream",
          "text": [
            "              precision    recall  f1-score   support\n",
            "\n",
            "           0       0.82      0.82      0.82        94\n",
            "           1       0.67      0.67      0.67        52\n",
            "\n",
            "    accuracy                           0.77       146\n",
            "   macro avg       0.75      0.75      0.75       146\n",
            "weighted avg       0.77      0.77      0.77       146\n",
            " \n",
            " [[77 17]\n",
            " [17 35]]\n"
          ],
          "name": "stdout"
        },
        {
          "output_type": "stream",
          "text": [
            "/usr/local/lib/python3.6/dist-packages/sklearn/linear_model/_logistic.py:940: ConvergenceWarning: lbfgs failed to converge (status=1):\n",
            "STOP: TOTAL NO. of ITERATIONS REACHED LIMIT.\n",
            "\n",
            "Increase the number of iterations (max_iter) or scale the data as shown in:\n",
            "    https://scikit-learn.org/stable/modules/preprocessing.html\n",
            "Please also refer to the documentation for alternative solver options:\n",
            "    https://scikit-learn.org/stable/modules/linear_model.html#logistic-regression\n",
            "  extra_warning_msg=_LOGISTIC_SOLVER_CONVERGENCE_MSG)\n"
          ],
          "name": "stderr"
        }
      ]
    },
    {
      "cell_type": "code",
      "metadata": {
        "id": "3xkfHEH-Im2D",
        "colab_type": "code",
        "cellView": "form",
        "outputId": "5cf55619-884a-4011-ba8d-911f1f195846",
        "colab": {
          "base_uri": "https://localhost:8080/",
          "height": 212
        }
      },
      "source": [
        "#@title SVM (Support Vector Machine)\n",
        "svm = SVC(C = 1000, gamma = 0.1)\n",
        "\n",
        "fit_and_evaluate(svm)"
      ],
      "execution_count": 0,
      "outputs": [
        {
          "output_type": "stream",
          "text": [
            "              precision    recall  f1-score   support\n",
            "\n",
            "           0       1.00      0.96      0.98        94\n",
            "           1       0.93      1.00      0.96        52\n",
            "\n",
            "    accuracy                           0.97       146\n",
            "   macro avg       0.96      0.98      0.97       146\n",
            "weighted avg       0.97      0.97      0.97       146\n",
            " \n",
            " [[90  4]\n",
            " [ 0 52]]\n"
          ],
          "name": "stdout"
        }
      ]
    },
    {
      "cell_type": "code",
      "metadata": {
        "id": "OnM8RDVIIp0F",
        "colab_type": "code",
        "cellView": "form",
        "outputId": "f65db860-1bd2-4bfe-f4a4-6a1e2ee09383",
        "colab": {
          "base_uri": "https://localhost:8080/",
          "height": 212
        }
      },
      "source": [
        "#@title Random forest\n",
        "random_forest = RandomForestClassifier(random_state=101)\n",
        "\n",
        "fit_and_evaluate(random_forest)"
      ],
      "execution_count": 0,
      "outputs": [
        {
          "output_type": "stream",
          "text": [
            "              precision    recall  f1-score   support\n",
            "\n",
            "           0       1.00      0.97      0.98        94\n",
            "           1       0.95      1.00      0.97        52\n",
            "\n",
            "    accuracy                           0.98       146\n",
            "   macro avg       0.97      0.98      0.98       146\n",
            "weighted avg       0.98      0.98      0.98       146\n",
            " \n",
            " [[91  3]\n",
            " [ 0 52]]\n"
          ],
          "name": "stdout"
        }
      ]
    },
    {
      "cell_type": "code",
      "metadata": {
        "id": "oS6AXvDOIsvD",
        "colab_type": "code",
        "cellView": "form",
        "outputId": "e1b91350-96ad-41dd-d38a-c8f17fb0ef85",
        "colab": {
          "base_uri": "https://localhost:8080/",
          "height": 212
        }
      },
      "source": [
        "#@title KNN\n",
        "knn = KNeighborsClassifier(n_neighbors=5)\n",
        "\n",
        "fit_and_evaluate(knn)"
      ],
      "execution_count": 0,
      "outputs": [
        {
          "output_type": "stream",
          "text": [
            "              precision    recall  f1-score   support\n",
            "\n",
            "           0       0.95      0.78      0.85        94\n",
            "           1       0.70      0.92      0.79        52\n",
            "\n",
            "    accuracy                           0.83       146\n",
            "   macro avg       0.82      0.85      0.82       146\n",
            "weighted avg       0.86      0.83      0.83       146\n",
            " \n",
            " [[73 21]\n",
            " [ 4 48]]\n"
          ],
          "name": "stdout"
        }
      ]
    },
    {
      "cell_type": "code",
      "metadata": {
        "id": "9tJ7ecdBIxN_",
        "colab_type": "code",
        "cellView": "form",
        "outputId": "99de42e2-f451-4f19-8dbd-2843c691d0d2",
        "colab": {
          "base_uri": "https://localhost:8080/",
          "height": 212
        }
      },
      "source": [
        "#@title Gradient Boosted\n",
        "gradient_boosted = GradientBoostingClassifier(random_state=60)\n",
        "\n",
        "fit_and_evaluate(gradient_boosted)"
      ],
      "execution_count": 0,
      "outputs": [
        {
          "output_type": "stream",
          "text": [
            "              precision    recall  f1-score   support\n",
            "\n",
            "           0       0.97      0.96      0.96        94\n",
            "           1       0.92      0.94      0.93        52\n",
            "\n",
            "    accuracy                           0.95       146\n",
            "   macro avg       0.95      0.95      0.95       146\n",
            "weighted avg       0.95      0.95      0.95       146\n",
            " \n",
            " [[90  4]\n",
            " [ 3 49]]\n"
          ],
          "name": "stdout"
        }
      ]
    },
    {
      "cell_type": "code",
      "metadata": {
        "id": "r051hUm2z9ib",
        "colab_type": "code",
        "cellView": "form",
        "outputId": "d9bf8354-aac7-4da5-9c04-5da0e36ceb2b",
        "colab": {
          "base_uri": "https://localhost:8080/",
          "height": 332
        }
      },
      "source": [
        "#@title Confusion Matrix (Random Forest)\n",
        "\n",
        "conf_mat = confusion_matrix(y_true=y_test, y_pred=random_forest.predict(X_test))\n",
        "print('Confusion matrix:\\n', conf_mat)\n",
        "\n",
        "labels = ['Class 0', 'Class 1']\n",
        "fig = plt.figure()\n",
        "ax = fig.add_subplot(111)\n",
        "cax = ax.matshow(conf_mat, cmap=plt.cm.Blues)\n",
        "fig.colorbar(cax)\n",
        "ax.set_xticklabels([''] + labels)\n",
        "ax.set_yticklabels([''] + labels)\n",
        "plt.xlabel('Predicted')\n",
        "plt.ylabel('Expected')\n",
        "plt.show()"
      ],
      "execution_count": 0,
      "outputs": [
        {
          "output_type": "stream",
          "text": [
            "Confusion matrix:\n",
            " [[91  3]\n",
            " [ 0 52]]\n"
          ],
          "name": "stdout"
        },
        {
          "output_type": "display_data",
          "data": {
            "image/png": "[encoded data removed]",
            "text/plain": [
              "<Figure size 432x288 with 2 Axes>"
            ]
          },
          "metadata": {
            "tags": [],
            "needs_background": "light"
          }
        }
      ]
    },
    {
      "cell_type": "code",
      "metadata": {
        "id": "xjefd8aiIz1N",
        "colab_type": "code",
        "cellView": "form",
        "outputId": "ef91650b-73b2-4d8f-a67d-925dbee99ce7",
        "colab": {
          "base_uri": "https://localhost:8080/",
          "height": 223
        }
      },
      "source": [
        "#@title Feature importance\n",
        "importances = random_forest.feature_importances_\n",
        "\n",
        "feature_list = list(X.columns)\n",
        "\n",
        "feature_results = pd.DataFrame({'feature': feature_list,\n",
        "                               'importance': importances})\n",
        "\n",
        "feature_results"
      ],
      "execution_count": 0,
      "outputs": [
        {
          "output_type": "execute_result",
          "data": {
            "text/html": [
              "<div>\n",
              "<style scoped>\n",
              "    .dataframe tbody tr th:only-of-type {\n",
              "        vertical-align: middle;\n",
              "    }\n",
              "\n",
              "    .dataframe tbody tr th {\n",
              "        vertical-align: top;\n",
              "    }\n",
              "\n",
              "    .dataframe thead th {\n",
              "        text-align: right;\n",
              "    }\n",
              "</style>\n",
              "<table border=\"1\" class=\"dataframe\">\n",
              "  <thead>\n",
              "    <tr style=\"text-align: right;\">\n",
              "      <th></th>\n",
              "      <th>feature</th>\n",
              "      <th>importance</th>\n",
              "    </tr>\n",
              "  </thead>\n",
              "  <tbody>\n",
              "    <tr>\n",
              "      <th>0</th>\n",
              "      <td>Teenhome</td>\n",
              "      <td>0.119247</td>\n",
              "    </tr>\n",
              "    <tr>\n",
              "      <th>1</th>\n",
              "      <td>Recency</td>\n",
              "      <td>0.233745</td>\n",
              "    </tr>\n",
              "    <tr>\n",
              "      <th>2</th>\n",
              "      <td>Frequency</td>\n",
              "      <td>0.132581</td>\n",
              "    </tr>\n",
              "    <tr>\n",
              "      <th>3</th>\n",
              "      <td>Revenue</td>\n",
              "      <td>0.245307</td>\n",
              "    </tr>\n",
              "    <tr>\n",
              "      <th>4</th>\n",
              "      <td>NumWebVisitsMonth</td>\n",
              "      <td>0.130309</td>\n",
              "    </tr>\n",
              "    <tr>\n",
              "      <th>5</th>\n",
              "      <td>AcceptedCmp3</td>\n",
              "      <td>0.138810</td>\n",
              "    </tr>\n",
              "  </tbody>\n",
              "</table>\n",
              "</div>"
            ],
            "text/plain": [
              "             feature  importance\n",
              "0           Teenhome    0.119247\n",
              "1            Recency    0.233745\n",
              "2          Frequency    0.132581\n",
              "3            Revenue    0.245307\n",
              "4  NumWebVisitsMonth    0.130309\n",
              "5       AcceptedCmp3    0.138810"
            ]
          },
          "metadata": {
            "tags": []
          },
          "execution_count": 729
        }
      ]
    },
    {
      "cell_type": "markdown",
      "metadata": {
        "id": "brkYeoYl_X7k",
        "colab_type": "text"
      },
      "source": [
        "## 2.5. Test"
      ]
    },
    {
      "cell_type": "code",
      "metadata": {
        "id": "yu0kB-PX_cZ_",
        "colab_type": "code",
        "colab": {}
      },
      "source": [
        "#gradient_boosted.predict_proba([[1, 20, 1, 1, 1000, 10, 20]])"
      ],
      "execution_count": 0,
      "outputs": []
    },
    {
      "cell_type": "code",
      "metadata": {
        "id": "KTngQ2XCLKaw",
        "colab_type": "code",
        "outputId": "3fc695fc-1787-4ca8-fdbf-4a1cfe2cf444",
        "colab": {
          "base_uri": "https://localhost:8080/",
          "height": 35
        }
      },
      "source": [
        "random_forest.predict_proba([[0, 30, 10, 1000, 10, 1]])"
      ],
      "execution_count": 0,
      "outputs": [
        {
          "output_type": "execute_result",
          "data": {
            "text/plain": [
              "array([[0.1, 0.9]])"
            ]
          },
          "metadata": {
            "tags": []
          },
          "execution_count": 744
        }
      ]
    }
  ]
}